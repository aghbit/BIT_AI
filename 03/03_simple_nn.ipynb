{
 "cells": [
  {
   "cell_type": "code",
   "execution_count": 1,
   "metadata": {
    "colab": {
     "base_uri": "https://localhost:8080/",
     "height": 354
    },
    "id": "JUk34rIkqHej",
    "outputId": "18631837-77e4-4c06-87ad-8eec46f2c21a"
   },
   "outputs": [],
   "source": [
    "import torch\n",
    "from torch import nn\n",
    "from torchvision.datasets import FashionMNIST\n",
    "from torchvision.transforms import ToTensor\n",
    "from torch.utils.data import DataLoader, random_split, Subset\n",
    "import torch.nn.functional as F\n",
    "from urllib.request import urlopen\n",
    "from PIL import Image, ImageChops\n",
    "\n",
    "import seaborn as sns\n",
    "import matplotlib.pyplot as plt\n",
    "import numpy as np\n",
    "\n",
    "torch.set_printoptions(threshold=100, linewidth=160, edgeitems=4, precision=3)"
   ]
  },
  {
   "cell_type": "markdown",
   "metadata": {
    "id": "aGerS_qyW4E6"
   },
   "source": [
    "# BIT AI - 03 Sieci neuronowe"
   ]
  },
  {
   "cell_type": "markdown",
   "metadata": {
    "id": "P0iK4RW79kfh"
   },
   "source": [
    "## Zbiór danych\n",
    "Używamy datasetu FashionMNIST - niżej pobieramy i ładujemy go.\n",
    "\n",
    "Dodatkowo robimy podział zbioru **train** na **train** i **val**. Na zbiorze **val** będziemy często sprawdzać jak nam idzie, żeby nie ruszać zbioru **test** - na nim sprawdzimy tylko na koniec."
   ]
  },
  {
   "cell_type": "code",
   "execution_count": 2,
   "metadata": {
    "colab": {
     "base_uri": "https://localhost:8080/"
    },
    "id": "81Ebk-KErAts",
    "outputId": "42a5499f-7574-4260-9ad0-5d265002056e"
   },
   "outputs": [
    {
     "name": "stdout",
     "output_type": "stream",
     "text": [
      "Train size: 1500\n",
      "Val size: 300\n",
      "Test size: 10000\n",
      "Classes: ['T-shirt/top', 'Trouser', 'Pullover', 'Dress', 'Coat', 'Sandal', 'Shirt', 'Sneaker', 'Bag', 'Ankle boot']\n"
     ]
    }
   ],
   "source": [
    "torch.manual_seed(0)\n",
    "train_set = FashionMNIST(\"data\", download=True, train=True, transform=ToTensor())\n",
    "train_set = Subset(train_set, np.arange(1800))\n",
    "\n",
    "train_set, val_set = random_split(train_set, [1500, 300])\n",
    "\n",
    "test_set = FashionMNIST(\"data\", download=True, train=False, transform=ToTensor())\n",
    "\n",
    "classes = test_set.classes\n",
    "\n",
    "print(f\"Train size: {len(train_set)}\")\n",
    "print(f\"Val size: {len(val_set)}\")\n",
    "print(f\"Test size: {len(test_set)}\")\n",
    "print(f\"Classes: {classes}\")"
   ]
  },
  {
   "cell_type": "markdown",
   "metadata": {
    "id": "j3i6ym59-glV"
   },
   "source": [
    "Tak wyglądają dane - mamy dużo par (zdjęcie, klasa).\n",
    "Zdjęcia mamy o rozdzielczości 28x28. "
   ]
  },
  {
   "cell_type": "code",
   "execution_count": 3,
   "metadata": {
    "colab": {
     "base_uri": "https://localhost:8080/"
    },
    "id": "VL_imReTsa6w",
    "outputId": "d0105aa3-0f3a-46b2-ef5f-8f64f72ba171"
   },
   "outputs": [
    {
     "name": "stdout",
     "output_type": "stream",
     "text": [
      "tensor([[[0.000, 0.000, 0.000, 0.000,  ..., 0.000, 0.000, 0.000, 0.000],\n",
      "         [0.000, 0.000, 0.000, 0.000,  ..., 0.557, 0.000, 0.004, 0.000],\n",
      "         [0.000, 0.000, 0.000, 0.000,  ..., 0.855, 0.000, 0.000, 0.000],\n",
      "         [0.000, 0.000, 0.000, 0.000,  ..., 0.875, 0.000, 0.000, 0.000],\n",
      "         ...,\n",
      "         [0.000, 0.255, 1.000, 0.933,  ..., 0.800, 0.855, 0.486, 0.000],\n",
      "         [0.000, 0.000, 0.173, 0.616,  ..., 0.831, 0.875, 0.463, 0.000],\n",
      "         [0.000, 0.000, 0.000, 0.000,  ..., 0.776, 0.776, 0.396, 0.000],\n",
      "         [0.000, 0.000, 0.008, 0.000,  ..., 0.000, 0.000, 0.000, 0.000]]]) 9\n",
      "\n",
      "tensor([[[0., 0., 0., 0.,  ..., 0., 0., 0., 0.],\n",
      "         [0., 0., 0., 0.,  ..., 0., 0., 0., 0.],\n",
      "         [0., 0., 0., 0.,  ..., 0., 0., 0., 0.],\n",
      "         [0., 0., 0., 0.,  ..., 0., 0., 0., 0.],\n",
      "         ...,\n",
      "         [0., 0., 0., 0.,  ..., 0., 0., 0., 0.],\n",
      "         [0., 0., 0., 0.,  ..., 0., 0., 0., 0.],\n",
      "         [0., 0., 0., 0.,  ..., 0., 0., 0., 0.],\n",
      "         [0., 0., 0., 0.,  ..., 0., 0., 0., 0.]]]) 5\n",
      "\n",
      "tensor([[[0.000, 0.000, 0.000, 0.000,  ..., 0.000, 0.000, 0.000, 0.000],\n",
      "         [0.000, 0.000, 0.000, 0.000,  ..., 0.000, 0.000, 0.000, 0.000],\n",
      "         [0.000, 0.000, 0.000, 0.000,  ..., 0.000, 0.000, 0.000, 0.000],\n",
      "         [0.000, 0.000, 0.000, 0.000,  ..., 0.000, 0.000, 0.004, 0.000],\n",
      "         ...,\n",
      "         [0.000, 0.000, 0.000, 0.039,  ..., 0.000, 0.604, 0.204, 0.000],\n",
      "         [0.220, 0.655, 0.522, 0.584,  ..., 0.000, 0.592, 0.329, 0.000],\n",
      "         [0.000, 0.204, 0.302, 0.412,  ..., 0.000, 0.941, 0.702, 0.000],\n",
      "         [0.000, 0.000, 0.000, 0.000,  ..., 0.000, 0.000, 0.000, 0.000]]]) 5\n",
      "\n"
     ]
    }
   ],
   "source": [
    "for i in range(3):\n",
    "    img, label = train_set[i]\n",
    "    print(img, label)\n",
    "    print()"
   ]
  },
  {
   "cell_type": "code",
   "execution_count": 4,
   "metadata": {
    "colab": {
     "base_uri": "https://localhost:8080/"
    },
    "id": "xCh067cPvDD_",
    "outputId": "1ef08de6-f8f4-439e-fccd-a5480cd19f00"
   },
   "outputs": [
    {
     "data": {
      "text/plain": [
       "['T-shirt/top',\n",
       " 'Trouser',\n",
       " 'Pullover',\n",
       " 'Dress',\n",
       " 'Coat',\n",
       " 'Sandal',\n",
       " 'Shirt',\n",
       " 'Sneaker',\n",
       " 'Bag',\n",
       " 'Ankle boot']"
      ]
     },
     "execution_count": 4,
     "metadata": {},
     "output_type": "execute_result"
    }
   ],
   "source": [
    "test_set.classes"
   ]
  },
  {
   "cell_type": "markdown",
   "metadata": {
    "id": "xQGr-3mZ_GLv"
   },
   "source": [
    "Parę przykładów jak wyglądają zdjęcia i do jakie mają oznaczenia klas. Rozdzielczość troche mała, ale tak właściwie to widać co to."
   ]
  },
  {
   "cell_type": "code",
   "execution_count": 5,
   "metadata": {
    "colab": {
     "base_uri": "https://localhost:8080/",
     "height": 166
    },
    "id": "N1If-X0VrCC5",
    "outputId": "15796c47-8ab0-4fc7-b08f-936d7ea65c03"
   },
   "outputs": [
    {
     "data": {
      "image/png": "[encoded data removed]",
      "text/plain": [
       "<Figure size 1500x500 with 7 Axes>"
      ]
     },
     "metadata": {},
     "output_type": "display_data"
    }
   ],
   "source": [
    "fig, axs = plt.subplots(ncols=7, figsize=(15, 5))\n",
    "for i, ax in enumerate(axs):\n",
    "    img, label = train_set[i]\n",
    "    ax.imshow(img[0], cmap=\"gray\")\n",
    "    ax.set_title(f\"Class: {label}\")"
   ]
  },
  {
   "cell_type": "markdown",
   "metadata": {
    "id": "cUi-nx9HcX-r"
   },
   "source": [
    "Warto sprawdzić czy klasy są zbalansowane."
   ]
  },
  {
   "cell_type": "code",
   "execution_count": 6,
   "metadata": {
    "colab": {
     "base_uri": "https://localhost:8080/",
     "height": 282
    },
    "id": "bKjanqG-bi1B",
    "outputId": "41f63b61-bbe2-4c71-e84d-26398ecd5b85"
   },
   "outputs": [
    {
     "data": {
      "text/plain": [
       "<Axes: >"
      ]
     },
     "execution_count": 6,
     "metadata": {},
     "output_type": "execute_result"
    },
    {
     "data": {
      "image/png": "[encoded data removed]",
      "text/plain": [
       "<Figure size 640x480 with 1 Axes>"
      ]
     },
     "metadata": {},
     "output_type": "display_data"
    }
   ],
   "source": [
    "_, counts = np.unique([y for X, y in train_set], return_counts=True)\n",
    "sns.barplot(y=counts, x=classes)"
   ]
  },
  {
   "cell_type": "markdown",
   "metadata": {
    "id": "e13bCfef_VXW"
   },
   "source": [
    "### Model sieci neuronowej\n",
    "Konstruujemy naszą sieć neuronową. W konstruktorze (*\\__init__*) inicjalizujemy nasze warstwy. W funkcji *forward* wywołujemy po kolei warstwy/transformacje a potem zwracamy wynik."
   ]
  },
  {
   "cell_type": "code",
   "execution_count": 7,
   "metadata": {
    "id": "P0PGkLb_tbV_"
   },
   "outputs": [],
   "source": [
    "class MyNeuralNetwork(nn.Module):\n",
    "    def __init__(self, img_shape, n_classes):\n",
    "        super().__init__()\n",
    "\n",
    "        total_pixels = img_shape[0] * img_shape[1]\n",
    "        self.layer1 = nn.Linear(in_features=total_pixels, out_features=128)\n",
    "        self.layer2 = nn.Linear(in_features=128, out_features=128)\n",
    "        self.layer3 = nn.Linear(in_features=128, out_features=n_classes)\n",
    "        self.relu = nn.ReLU()\n",
    "\n",
    "    def forward(self, x):\n",
    "        x = x.flatten(start_dim=1)\n",
    "        x = self.layer1(x)\n",
    "        x = self.relu(x)\n",
    "        x = self.layer2(x)\n",
    "        x = self.relu(x)\n",
    "        x = self.layer3(x)\n",
    "        return x"
   ]
  },
  {
   "cell_type": "code",
   "execution_count": 8,
   "metadata": {
    "colab": {
     "base_uri": "https://localhost:8080/"
    },
    "id": "8d-Lynxlu_JE",
    "outputId": "4f437509-9f46-45e7-be2b-1098eae503d3"
   },
   "outputs": [
    {
     "data": {
      "text/plain": [
       "MyNeuralNetwork(\n",
       "  (layer1): Linear(in_features=784, out_features=128, bias=True)\n",
       "  (layer2): Linear(in_features=128, out_features=128, bias=True)\n",
       "  (layer3): Linear(in_features=128, out_features=10, bias=True)\n",
       "  (relu): ReLU()\n",
       ")"
      ]
     },
     "execution_count": 8,
     "metadata": {},
     "output_type": "execute_result"
    }
   ],
   "source": [
    "model = MyNeuralNetwork(img_shape=[28, 28], n_classes=10)\n",
    "model"
   ]
  },
  {
   "cell_type": "markdown",
   "metadata": {
    "id": "7P5DJ4ikA0pP"
   },
   "source": [
    "Możemy podejrzeć parametry modelu - widać że zainicjowane są do małych losowych wartości. "
   ]
  },
  {
   "cell_type": "code",
   "execution_count": 9,
   "metadata": {
    "colab": {
     "base_uri": "https://localhost:8080/"
    },
    "id": "WDKloIi1fA89",
    "outputId": "f0a474b5-7e31-4969-ebc9-d111c20b87d2"
   },
   "outputs": [
    {
     "name": "stdout",
     "output_type": "stream",
     "text": [
      "Parameter containing:\n",
      "tensor([[-0.001,  0.005,  0.000, -0.026,  ..., -0.013, -0.035,  0.029, -0.008],\n",
      "        [ 0.007, -0.010,  0.023,  0.035,  ..., -0.022, -0.015,  0.005, -0.008],\n",
      "        [-0.020,  0.000, -0.011,  0.022,  ...,  0.018,  0.033, -0.033, -0.016],\n",
      "        [ 0.030, -0.002,  0.007,  0.005,  ..., -0.034, -0.010, -0.004,  0.019],\n",
      "        ...,\n",
      "        [-0.015, -0.010,  0.017,  0.035,  ..., -0.022,  0.018, -0.006, -0.030],\n",
      "        [ 0.011,  0.013,  0.032,  0.018,  ...,  0.017, -0.023, -0.034, -0.019],\n",
      "        [-0.027,  0.021,  0.016, -0.000,  ..., -0.015,  0.024, -0.009, -0.029],\n",
      "        [ 0.000, -0.025, -0.034,  0.002,  ...,  0.035, -0.006,  0.032, -0.001]], requires_grad=True)\n",
      "torch.Size([128, 784])\n",
      "\n",
      "Parameter containing:\n",
      "tensor([ 0.003, -0.033, -0.032, -0.015,  ..., -0.027,  0.010,  0.029, -0.008], requires_grad=True)\n",
      "torch.Size([128])\n",
      "\n",
      "Parameter containing:\n",
      "tensor([[-0.013,  0.010,  0.053, -0.030,  ..., -0.078, -0.031,  0.036, -0.007],\n",
      "        [-0.063, -0.047, -0.054, -0.047,  ..., -0.041,  0.014, -0.065,  0.034],\n",
      "        [ 0.086,  0.013, -0.046, -0.055,  ...,  0.038, -0.028,  0.088,  0.003],\n",
      "        [-0.016, -0.004, -0.007, -0.045,  ..., -0.064,  0.016,  0.019, -0.009],\n",
      "        ...,\n",
      "        [-0.057,  0.022, -0.037,  0.055,  ..., -0.024, -0.062,  0.062,  0.005],\n",
      "        [-0.049, -0.013,  0.075,  0.052,  ..., -0.002, -0.062,  0.031,  0.029],\n",
      "        [ 0.048, -0.038,  0.016, -0.026,  ...,  0.010, -0.058,  0.042,  0.087],\n",
      "        [-0.081,  0.074,  0.005,  0.019,  ...,  0.028, -0.035, -0.023,  0.087]], requires_grad=True)\n",
      "torch.Size([128, 128])\n",
      "\n",
      "Parameter containing:\n",
      "tensor([ 0.009, -0.018,  0.051, -0.046,  ..., -0.076, -0.014,  0.048,  0.065], requires_grad=True)\n",
      "torch.Size([128])\n",
      "\n",
      "Parameter containing:\n",
      "tensor([[ 0.011,  0.021, -0.021,  0.045,  ..., -0.013,  0.028,  0.053, -0.035],\n",
      "        [ 0.065, -0.028,  0.021,  0.058,  ..., -0.064, -0.066, -0.005,  0.045],\n",
      "        [ 0.008,  0.069,  0.049, -0.067,  ..., -0.023,  0.035, -0.031, -0.085],\n",
      "        [-0.088, -0.037,  0.088, -0.045,  ...,  0.071, -0.034,  0.012,  0.049],\n",
      "        ...,\n",
      "        [ 0.067, -0.010,  0.020,  0.086,  ..., -0.018, -0.040, -0.016, -0.037],\n",
      "        [-0.086,  0.083,  0.063,  0.017,  ...,  0.056, -0.059,  0.071,  0.048],\n",
      "        [ 0.035, -0.032,  0.002, -0.086,  ..., -0.008,  0.037,  0.036,  0.033],\n",
      "        [-0.047,  0.078,  0.028, -0.039,  ...,  0.074, -0.028, -0.036,  0.059]], requires_grad=True)\n",
      "torch.Size([10, 128])\n",
      "\n",
      "Parameter containing:\n",
      "tensor([ 0.046,  0.011, -0.010,  0.042,  0.029,  0.083, -0.082, -0.062, -0.086, -0.052], requires_grad=True)\n",
      "torch.Size([10])\n",
      "\n"
     ]
    }
   ],
   "source": [
    "for params in model.parameters():\n",
    "    print(params, params.shape, sep=\"\\n\", end=\"\\n\\n\")"
   ]
  },
  {
   "cell_type": "markdown",
   "metadata": {
    "id": "wXIxIRa8BAxs"
   },
   "source": [
    "Model nie jest wytrenowany - póki co ma losowe parametry. Ale moze przyjąć zdjęcie i powinien zwrócić jakąś wartość - raczej w miare losową. Można zauważyć też, że pytorch cachuje nam dane potrzebne do policzenia potem gradientów.\n",
    "\n",
    "\n",
    "\n",
    "Model skonfigurowany jest tak, że przyjmuje na wejściu tensor o wymiarach [BS, 28, 28], gdzie BS to batch_size - można mu podać wiele zdjęć na raz. Na wyjściu powinien zwracać tensor o wymiarach [BS, 10], czyli tak jakby listę wektorów z wynikami dla każdej z 10 klas."
   ]
  },
  {
   "cell_type": "code",
   "execution_count": 10,
   "metadata": {
    "colab": {
     "base_uri": "https://localhost:8080/"
    },
    "id": "cSMKxPaSviOO",
    "outputId": "bbfafee2-754e-4f51-c3dc-9cf5b45ce58c"
   },
   "outputs": [
    {
     "data": {
      "text/plain": [
       "tensor([[ 0.163, -0.077, -0.036, -0.095,  0.132,  0.091, -0.187, -0.095, -0.049, -0.108]], grad_fn=<AddmmBackward0>)"
      ]
     },
     "execution_count": 10,
     "metadata": {},
     "output_type": "execute_result"
    }
   ],
   "source": [
    "img = train_set[0][0]\n",
    "model(img)"
   ]
  },
  {
   "cell_type": "markdown",
   "metadata": {
    "id": "Oo95Eh3ZBdXv"
   },
   "source": [
    "Funkcja softmax przyda się, żeby wyjścia modelu przekształcić w prawdopodobieństwa - tak by wszystkie były od 0 do 1 i sumowały się do 1."
   ]
  },
  {
   "cell_type": "code",
   "execution_count": 11,
   "metadata": {
    "colab": {
     "base_uri": "https://localhost:8080/"
    },
    "id": "zuUpO_MCBXjG",
    "outputId": "75ff5a94-4d97-4513-c764-35a191fd3017"
   },
   "outputs": [
    {
     "data": {
      "text/plain": [
       "tensor([[0.120, 0.094, 0.098, 0.093, 0.116, 0.112, 0.085, 0.093, 0.097, 0.092]], grad_fn=<SoftmaxBackward0>)"
      ]
     },
     "execution_count": 11,
     "metadata": {},
     "output_type": "execute_result"
    }
   ],
   "source": [
    "F.softmax(model(img), dim=1)"
   ]
  },
  {
   "cell_type": "code",
   "execution_count": 12,
   "metadata": {
    "colab": {
     "base_uri": "https://localhost:8080/",
     "height": 281
    },
    "id": "Ebwqtath1aHa",
    "outputId": "72aa09b3-d46e-4756-b3ad-fd9eb6b8ac7e"
   },
   "outputs": [
    {
     "data": {
      "image/png": "[encoded data removed]",
      "text/plain": [
       "<Figure size 1500x400 with 2 Axes>"
      ]
     },
     "metadata": {},
     "output_type": "display_data"
    }
   ],
   "source": [
    "def plot_pred(img, model):\n",
    "    preds = model(img)\n",
    "    preds = F.softmax(preds, dim=1)\n",
    "    preds = preds[0].tolist()\n",
    "\n",
    "    fig, (ax1, ax2) = plt.subplots(ncols=2, figsize=(15, 4), gridspec_kw={\"width_ratios\": [1, 3]})\n",
    "    ax1.imshow(img.reshape(28, 28))\n",
    "    ax1.set_title(\"Zdjęcie\")\n",
    "    sns.barplot(y=preds, x=classes, ax=ax2)\n",
    "    ax2.set_ylim(0, 1)\n",
    "    ax2.set_title(\"Predykcje\")\n",
    "    plt.show()\n",
    "\n",
    "\n",
    "plot_pred(img, model)"
   ]
  },
  {
   "cell_type": "markdown",
   "metadata": {
    "id": "-vPY1lV1BwFZ"
   },
   "source": [
    "DataLoader to taka klasa, która pomoże nam w iterowaniu przez dataset. Argument *batch_size* mówi po ile zdjęć bierzemy za jednym razem. Niżej widać jak możemy iterować przez taki loader i co dostajemy. Długość (pythonowe len) jest mniejsza niż długość całego datasetu bo tym razem liczymy batche a nie pojedyncze przykłady. "
   ]
  },
  {
   "cell_type": "code",
   "execution_count": 13,
   "metadata": {
    "colab": {
     "base_uri": "https://localhost:8080/"
    },
    "id": "qkPEs_NTaBrg",
    "outputId": "9c1cadf7-167d-4a1f-83e7-3cd1bb9ea640"
   },
   "outputs": [
    {
     "name": "stdout",
     "output_type": "stream",
     "text": [
      "188\n",
      "1250\n"
     ]
    }
   ],
   "source": [
    "train_loader = DataLoader(train_set, batch_size=8)\n",
    "test_loader = DataLoader(test_set, batch_size=8)\n",
    "\n",
    "print(len(train_loader))\n",
    "print(len(test_loader))"
   ]
  },
  {
   "cell_type": "code",
   "execution_count": 14,
   "metadata": {
    "colab": {
     "base_uri": "https://localhost:8080/"
    },
    "id": "1YoGli_qanZ5",
    "outputId": "ffd677de-4483-4460-fcb4-8d01dad553ab"
   },
   "outputs": [
    {
     "name": "stdout",
     "output_type": "stream",
     "text": [
      "tensor([[[[0.000, 0.000, 0.000, 0.000,  ..., 0.000, 0.000, 0.000, 0.000],\n",
      "          [0.000, 0.000, 0.000, 0.000,  ..., 0.557, 0.000, 0.004, 0.000],\n",
      "          [0.000, 0.000, 0.000, 0.000,  ..., 0.855, 0.000, 0.000, 0.000],\n",
      "          [0.000, 0.000, 0.000, 0.000,  ..., 0.875, 0.000, 0.000, 0.000],\n",
      "          ...,\n",
      "          [0.000, 0.255, 1.000, 0.933,  ..., 0.800, 0.855, 0.486, 0.000],\n",
      "          [0.000, 0.000, 0.173, 0.616,  ..., 0.831, 0.875, 0.463, 0.000],\n",
      "          [0.000, 0.000, 0.000, 0.000,  ..., 0.776, 0.776, 0.396, 0.000],\n",
      "          [0.000, 0.000, 0.008, 0.000,  ..., 0.000, 0.000, 0.000, 0.000]]],\n",
      "\n",
      "\n",
      "        [[[0.000, 0.000, 0.000, 0.000,  ..., 0.000, 0.000, 0.000, 0.000],\n",
      "          [0.000, 0.000, 0.000, 0.000,  ..., 0.000, 0.000, 0.000, 0.000],\n",
      "          [0.000, 0.000, 0.000, 0.000,  ..., 0.000, 0.000, 0.000, 0.000],\n",
      "          [0.000, 0.000, 0.000, 0.000,  ..., 0.000, 0.000, 0.000, 0.000],\n",
      "          ...,\n",
      "          [0.000, 0.000, 0.000, 0.000,  ..., 0.000, 0.000, 0.000, 0.000],\n",
      "          [0.000, 0.000, 0.000, 0.000,  ..., 0.000, 0.000, 0.000, 0.000],\n",
      "          [0.000, 0.000, 0.000, 0.000,  ..., 0.000, 0.000, 0.000, 0.000],\n",
      "          [0.000, 0.000, 0.000, 0.000,  ..., 0.000, 0.000, 0.000, 0.000]]],\n",
      "\n",
      "\n",
      "        [[[0.000, 0.000, 0.000, 0.000,  ..., 0.000, 0.000, 0.000, 0.000],\n",
      "          [0.000, 0.000, 0.000, 0.000,  ..., 0.000, 0.000, 0.000, 0.000],\n",
      "          [0.000, 0.000, 0.000, 0.000,  ..., 0.000, 0.000, 0.000, 0.000],\n",
      "          [0.000, 0.000, 0.000, 0.000,  ..., 0.000, 0.000, 0.004, 0.000],\n",
      "          ...,\n",
      "          [0.000, 0.000, 0.000, 0.039,  ..., 0.000, 0.604, 0.204, 0.000],\n",
      "          [0.220, 0.655, 0.522, 0.584,  ..., 0.000, 0.592, 0.329, 0.000],\n",
      "          [0.000, 0.204, 0.302, 0.412,  ..., 0.000, 0.941, 0.702, 0.000],\n",
      "          [0.000, 0.000, 0.000, 0.000,  ..., 0.000, 0.000, 0.000, 0.000]]],\n",
      "\n",
      "\n",
      "        [[[0.000, 0.000, 0.000, 0.000,  ..., 0.000, 0.000, 0.000, 0.000],\n",
      "          [0.000, 0.000, 0.000, 0.000,  ..., 0.000, 0.000, 0.000, 0.000],\n",
      "          [0.000, 0.000, 0.000, 0.000,  ..., 0.000, 0.000, 0.000, 0.000],\n",
      "          [0.000, 0.000, 0.000, 0.000,  ..., 0.000, 0.000, 0.000, 0.000],\n",
      "          ...,\n",
      "          [0.000, 0.000, 0.000, 0.000,  ..., 0.000, 0.000, 0.000, 0.000],\n",
      "          [0.000, 0.000, 0.000, 0.000,  ..., 0.000, 0.000, 0.000, 0.000],\n",
      "          [0.000, 0.000, 0.000, 0.000,  ..., 0.000, 0.000, 0.000, 0.000],\n",
      "          [0.000, 0.000, 0.000, 0.000,  ..., 0.000, 0.000, 0.000, 0.000]]],\n",
      "\n",
      "\n",
      "        [[[0.000, 0.000, 0.000, 0.000,  ..., 0.000, 0.000, 0.000, 0.000],\n",
      "          [0.000, 0.000, 0.000, 0.000,  ..., 0.000, 0.000, 0.000, 0.000],\n",
      "          [0.000, 0.000, 0.000, 0.000,  ..., 0.000, 0.000, 0.000, 0.000],\n",
      "          [0.000, 0.000, 0.000, 0.000,  ..., 0.004, 0.000, 0.000, 0.000],\n",
      "          ...,\n",
      "          [0.000, 0.000, 0.000, 0.000,  ..., 0.690, 0.000, 0.000, 0.000],\n",
      "          [0.000, 0.000, 0.000, 0.000,  ..., 0.659, 0.000, 0.000, 0.000],\n",
      "          [0.000, 0.000, 0.000, 0.000,  ..., 0.620, 0.000, 0.000, 0.000],\n",
      "          [0.000, 0.000, 0.000, 0.000,  ..., 0.459, 0.000, 0.000, 0.000]]],\n",
      "\n",
      "\n",
      "        [[[0.000, 0.000, 0.000, 0.000,  ..., 0.000, 0.000, 0.000, 0.000],\n",
      "          [0.000, 0.000, 0.000, 0.008,  ..., 0.000, 0.000, 0.000, 0.000],\n",
      "          [0.000, 0.000, 0.000, 0.008,  ..., 0.000, 0.000, 0.000, 0.000],\n",
      "          [0.000, 0.000, 0.000, 0.000,  ..., 0.000, 0.000, 0.000, 0.000],\n",
      "          ...,\n",
      "          [0.000, 0.000, 0.000, 0.741,  ..., 0.725, 0.000, 0.000, 0.000],\n",
      "          [0.000, 0.000, 0.000, 0.561,  ..., 0.690, 0.000, 0.000, 0.000],\n",
      "          [0.000, 0.000, 0.000, 0.502,  ..., 0.416, 0.000, 0.000, 0.000],\n",
      "          [0.000, 0.000, 0.000, 0.325,  ..., 0.208, 0.000, 0.000, 0.000]]],\n",
      "\n",
      "\n",
      "        [[[0.000, 0.000, 0.000, 0.000,  ..., 0.000, 0.000, 0.000, 0.000],\n",
      "          [0.000, 0.000, 0.000, 0.000,  ..., 0.000, 0.000, 0.000, 0.000],\n",
      "          [0.000, 0.000, 0.000, 0.000,  ..., 0.000, 0.000, 0.000, 0.000],\n",
      "          [0.000, 0.000, 0.000, 0.000,  ..., 0.000, 0.000, 0.000, 0.000],\n",
      "          ...,\n",
      "          [0.000, 0.000, 0.000, 0.000,  ..., 0.000, 0.000, 0.000, 0.000],\n",
      "          [0.000, 0.000, 0.000, 0.000,  ..., 0.000, 0.000, 0.000, 0.000],\n",
      "          [0.000, 0.000, 0.000, 0.000,  ..., 0.000, 0.000, 0.000, 0.000],\n",
      "          [0.000, 0.000, 0.000, 0.000,  ..., 0.000, 0.000, 0.000, 0.000]]],\n",
      "\n",
      "\n",
      "        [[[0.000, 0.000, 0.000, 0.000,  ..., 0.000, 0.000, 0.000, 0.000],\n",
      "          [0.000, 0.000, 0.000, 0.000,  ..., 0.000, 0.000, 0.000, 0.000],\n",
      "          [0.000, 0.000, 0.000, 0.000,  ..., 0.000, 0.000, 0.000, 0.000],\n",
      "          [0.000, 0.000, 0.000, 0.000,  ..., 0.000, 0.000, 0.000, 0.000],\n",
      "          ...,\n",
      "          [0.000, 0.000, 0.000, 0.000,  ..., 0.000, 0.000, 0.000, 0.000],\n",
      "          [0.000, 0.000, 0.000, 0.000,  ..., 0.000, 0.000, 0.000, 0.000],\n",
      "          [0.000, 0.000, 0.000, 0.000,  ..., 0.000, 0.000, 0.000, 0.000],\n",
      "          [0.000, 0.000, 0.000, 0.000,  ..., 0.000, 0.000, 0.000, 0.000]]]]) torch.Size([8, 1, 28, 28])\n",
      "tensor([9, 5, 5, 4, 4, 2, 7, 7]) torch.Size([8])\n"
     ]
    }
   ],
   "source": [
    "for X, y in train_loader:\n",
    "    print(X, X.shape)\n",
    "    print(y, y.shape)\n",
    "    break"
   ]
  },
  {
   "cell_type": "markdown",
   "metadata": {
    "id": "Xu4RpMwJLRYU"
   },
   "source": [
    "## Trening\n",
    "Niżej definiujemy różne rzeczy - model, optimizer, hiperparametry i takie tam. \n",
    "Przygotowujemy trzy loadery:\n",
    "- treningowy - na nim będziemy uczyć sieć\n",
    "- walidacyjny - na nim będziemy sprawdzać jak nam idzie\n",
    "- testowy - na nim zweryfikujemy wyniki na sam koniec"
   ]
  },
  {
   "cell_type": "code",
   "execution_count": 15,
   "metadata": {
    "id": "tqEyKEKMwDA-"
   },
   "outputs": [],
   "source": [
    "model = MyNeuralNetwork(img_shape=[28, 28], n_classes=10)\n",
    "\n",
    "loss_fun = nn.CrossEntropyLoss()\n",
    "\n",
    "learning_rate = 0.0001\n",
    "optimizer = torch.optim.Adam(model.parameters(), lr=learning_rate)\n",
    "\n",
    "batch_size = 64\n",
    "\n",
    "train_loader = DataLoader(train_set, batch_size=batch_size)\n",
    "val_loader = DataLoader(val_set, batch_size=batch_size)\n",
    "test_loader = DataLoader(test_set, batch_size=batch_size)\n",
    "\n",
    "num_epochs = 30"
   ]
  },
  {
   "cell_type": "markdown",
   "metadata": {
    "id": "YjqO2vsGL0st"
   },
   "source": [
    "Trenujemy - w każdej epoce przechodzimy przez cały treningowy loader.\n",
    "\n",
    "W pojedynczej epoce dla każdego batcha:\n",
    "- wywołujemy model\n",
    "- wyliczamy loss (błąd na danej grupie przykładów)\n",
    "- gradienty (ważne!)\n",
    "  - optimizer.zero_grad() - zeruje nam wcześniej policzone gradienty\n",
    "  - loss.backward() - oblicza gradienty algorytmem propagacji wsteczej\n",
    "  - optimizer.step() - updatuje parametry robiąc kroczek\n",
    "- zapisujemy sobie wartość funkcji loss i na ilu przykładach model przewidział poprawnie, żeby podsumować sobie potem po całej epoce\n",
    "\n",
    "Uwaga - jeśli odpalicie tą komórkę wielokrotnie bez resetowania parametrów, to model będzie się dotrenowywał."
   ]
  },
  {
   "cell_type": "code",
   "execution_count": 16,
   "metadata": {
    "colab": {
     "base_uri": "https://localhost:8080/"
    },
    "id": "w5oZaT50ws91",
    "outputId": "44c35bfe-2814-4e53-ae69-02673de6df6f"
   },
   "outputs": [
    {
     "name": "stdout",
     "output_type": "stream",
     "text": [
      "Epoch 1\n",
      "  Training loss: 2.2452, training acc: 0.4000\n",
      "  Validation loss: 2.1840, val acc: 0.5067\n",
      "Epoch 2\n",
      "  Training loss: 2.1132, training acc: 0.5453\n",
      "  Validation loss: 2.0307, val acc: 0.5567\n",
      "Epoch 3\n",
      "  Training loss: 1.9322, training acc: 0.5753\n",
      "  Validation loss: 1.8245, val acc: 0.5600\n",
      "Epoch 4\n",
      "  Training loss: 1.7128, training acc: 0.5867\n",
      "  Validation loss: 1.6034, val acc: 0.5700\n",
      "Epoch 5\n",
      "  Training loss: 1.4980, training acc: 0.5887\n",
      "  Validation loss: 1.4064, val acc: 0.5800\n",
      "Epoch 6\n",
      "  Training loss: 1.3166, training acc: 0.6053\n",
      "  Validation loss: 1.2485, val acc: 0.6133\n",
      "Epoch 7\n",
      "  Training loss: 1.1765, training acc: 0.6340\n",
      "  Validation loss: 1.1297, val acc: 0.6567\n",
      "Epoch 8\n",
      "  Training loss: 1.0723, training acc: 0.6620\n",
      "  Validation loss: 1.0425, val acc: 0.6533\n",
      "Epoch 9\n",
      "  Training loss: 0.9944, training acc: 0.6773\n",
      "  Validation loss: 0.9768, val acc: 0.6667\n",
      "Epoch 10\n",
      "  Training loss: 0.9343, training acc: 0.6927\n",
      "  Validation loss: 0.9258, val acc: 0.6767\n",
      "Epoch 11\n",
      "  Training loss: 0.8866, training acc: 0.7060\n",
      "  Validation loss: 0.8854, val acc: 0.6900\n",
      "Epoch 12\n",
      "  Training loss: 0.8476, training acc: 0.7200\n",
      "  Validation loss: 0.8522, val acc: 0.7000\n",
      "Epoch 13\n",
      "  Training loss: 0.8150, training acc: 0.7260\n",
      "  Validation loss: 0.8244, val acc: 0.7067\n",
      "Epoch 14\n",
      "  Training loss: 0.7869, training acc: 0.7307\n",
      "  Validation loss: 0.8003, val acc: 0.7133\n",
      "Epoch 15\n",
      "  Training loss: 0.7625, training acc: 0.7373\n",
      "  Validation loss: 0.7792, val acc: 0.7300\n",
      "Epoch 16\n",
      "  Training loss: 0.7409, training acc: 0.7420\n",
      "  Validation loss: 0.7602, val acc: 0.7333\n",
      "Epoch 17\n",
      "  Training loss: 0.7211, training acc: 0.7507\n",
      "  Validation loss: 0.7427, val acc: 0.7400\n",
      "Epoch 18\n",
      "  Training loss: 0.7035, training acc: 0.7547\n",
      "  Validation loss: 0.7281, val acc: 0.7500\n",
      "Epoch 19\n",
      "  Training loss: 0.6870, training acc: 0.7620\n",
      "  Validation loss: 0.7133, val acc: 0.7500\n",
      "Epoch 20\n",
      "  Training loss: 0.6719, training acc: 0.7693\n",
      "  Validation loss: 0.6999, val acc: 0.7567\n",
      "Epoch 21\n",
      "  Training loss: 0.6578, training acc: 0.7740\n",
      "  Validation loss: 0.6874, val acc: 0.7633\n",
      "Epoch 22\n",
      "  Training loss: 0.6446, training acc: 0.7793\n",
      "  Validation loss: 0.6756, val acc: 0.7800\n",
      "Epoch 23\n",
      "  Training loss: 0.6322, training acc: 0.7813\n",
      "  Validation loss: 0.6646, val acc: 0.7833\n",
      "Epoch 24\n",
      "  Training loss: 0.6203, training acc: 0.7873\n",
      "  Validation loss: 0.6540, val acc: 0.7900\n",
      "Epoch 25\n",
      "  Training loss: 0.6091, training acc: 0.7900\n",
      "  Validation loss: 0.6441, val acc: 0.7900\n",
      "Epoch 26\n",
      "  Training loss: 0.5984, training acc: 0.7953\n",
      "  Validation loss: 0.6346, val acc: 0.7900\n",
      "Epoch 27\n",
      "  Training loss: 0.5882, training acc: 0.7947\n",
      "  Validation loss: 0.6258, val acc: 0.7967\n",
      "Epoch 28\n",
      "  Training loss: 0.5784, training acc: 0.7967\n",
      "  Validation loss: 0.6174, val acc: 0.8000\n",
      "Epoch 29\n",
      "  Training loss: 0.5690, training acc: 0.8000\n",
      "  Validation loss: 0.6093, val acc: 0.8067\n",
      "Epoch 30\n",
      "  Training loss: 0.5600, training acc: 0.8033\n",
      "  Validation loss: 0.6018, val acc: 0.8100\n"
     ]
    }
   ],
   "source": [
    "for epoch in range(1, num_epochs + 1):\n",
    "    model.train()\n",
    "\n",
    "    train_loss = 0\n",
    "    train_correct = 0\n",
    "    for X, y in train_loader:\n",
    "        output = model(X)\n",
    "        loss = loss_fun(output, y)\n",
    "\n",
    "        optimizer.zero_grad()\n",
    "        loss.backward()\n",
    "        optimizer.step()\n",
    "\n",
    "        train_loss += loss.item()\n",
    "        train_correct += output.argmax(dim=1).eq(y).sum().item()\n",
    "\n",
    "    train_loss = train_loss / len(train_loader)\n",
    "    train_acc = train_correct / len(train_loader.dataset)\n",
    "\n",
    "    ############\n",
    "    # ZADANIE 2\n",
    "\n",
    "    model.eval()\n",
    "    val_loss = 0\n",
    "    val_correct = 0\n",
    "    for X, y in val_loader:\n",
    "        output = model(X)\n",
    "        loss = loss_fun(output, y)\n",
    "\n",
    "        val_loss += loss.item()\n",
    "        val_correct += output.argmax(dim=1).eq(y).sum().item()\n",
    "\n",
    "    val_loss = val_loss / len(val_loader)\n",
    "    val_acc = val_correct / len(val_loader.dataset)\n",
    "    ############\n",
    "\n",
    "    print(f\"Epoch {epoch}\")\n",
    "    print(f\"  Training loss: {train_loss:.4f}, training acc: {train_acc:.4f}\")\n",
    "    print(f\"  Validation loss: {val_loss:.4f}, val acc: {val_acc:.4f}\")"
   ]
  },
  {
   "cell_type": "markdown",
   "metadata": {
    "id": "60GQGcoUS2y7"
   },
   "source": [
    "Jeśli trening działa, to loss powinien spadać z każdą epoką, a accuracy powinno rosnąć. Trzeba pamiętać, że to wyniki na treningowym datasecie. Niżej sprawdzimy na testowym datasecie. "
   ]
  },
  {
   "cell_type": "markdown",
   "metadata": {
    "id": "Yyrl9_WwYa_G"
   },
   "source": [
    "## Walidacja \n",
    "\n",
    "Zwykle wyniki na treningowym datasecie są trochę lepsze niż na nowych danych. Nie powinniśmy jednak trenować go zbyt mocno/długo - w końcu model może zapamiętać cały treningowy dataset, a w praktyce (na walidacyjnym/testowym) działać słabiej. \n",
    "\n",
    "Tutaj trzeba mieć na uwadze, że mamy bardzo duży dataset, więc tych problemów będzie mniej."
   ]
  },
  {
   "cell_type": "code",
   "execution_count": 17,
   "metadata": {
    "colab": {
     "base_uri": "https://localhost:8080/"
    },
    "id": "EaIvTQH5gvUz",
    "outputId": "685a4f90-e5e4-4b12-acea-dc0ed3c21e30"
   },
   "outputs": [
    {
     "name": "stdout",
     "output_type": "stream",
     "text": [
      "Loss: 0.6488, acc: 0.7646\n"
     ]
    }
   ],
   "source": [
    "model.eval()\n",
    "loss = 0\n",
    "correct = 0\n",
    "for X, y in test_loader:\n",
    "    output = model(X)\n",
    "    loss += loss_fun(output, y).item()\n",
    "    correct += output.argmax(dim=1).eq(y).sum().item()\n",
    "\n",
    "loss = loss / len(test_loader)\n",
    "acc = correct / len(test_loader.dataset)\n",
    "\n",
    "print(f\"Loss: {loss:.4f}, acc: {acc:.4f}\")"
   ]
  },
  {
   "cell_type": "markdown",
   "metadata": {
    "id": "ycOZNRYTh3q8"
   },
   "source": [
    "## Zadanka"
   ]
  },
  {
   "cell_type": "markdown",
   "metadata": {
    "id": "0y2r2SF5Vd9g"
   },
   "source": [
    "### Zadanie 1\n",
    "Sprawdź i wyświetl funkcją `plot_pred(img, model)` jakiś przykład z datasetu testowego, na którym sieć zrobiła pomyłkę.\n"
   ]
  },
  {
   "cell_type": "markdown",
   "metadata": {
    "id": "NreeLnuCUVHe"
   },
   "source": [
    "### Zadanie 2\n",
    "Dopisz do pętli treningowej sprawdzanie sieci na datasecie walidacyjnym, tak by co epokę mieć wypisane wartości - *validation loss* i *validation acc*. \n",
    "\n",
    "(dopisz kod wyżej, w wyznaczonym miejscu w pętli treningowej)\n"
   ]
  },
  {
   "cell_type": "markdown",
   "metadata": {
    "id": "Up5TSolxdm-v"
   },
   "source": [
    "### Zadanie 3\n",
    "Znajdź jakieś zdjęcie z Zalando albo jakiegos innego sklepu z ubraniami i sprawdź czy sieć sobie z nim poradzi. \n",
    "\n",
    "\n",
    "Niżej funkcja, która pomoże zrobić preprocessing - trzeba tylko podać url.\n"
   ]
  },
  {
   "cell_type": "code",
   "execution_count": 18,
   "metadata": {
    "id": "NIQc_XS9Yke0",
    "tags": []
   },
   "outputs": [],
   "source": [
    "def img_preprocessing(url):\n",
    "    img = Image.open(urlopen(url)).convert(\"L\")\n",
    "    img = img.resize((28, 28))\n",
    "    img = ImageChops.invert(img)\n",
    "    return ToTensor()(img).unsqueeze(dim=0)"
   ]
  }
 ],
 "metadata": {
  "colab": {
   "provenance": []
  },
  "kernelspec": {
   "display_name": "Python 3 (ipykernel)",
   "language": "python",
   "name": "python3"
  },
  "language_info": {
   "codemirror_mode": {
    "name": "ipython",
    "version": 3
   },
   "file_extension": ".py",
   "mimetype": "text/x-python",
   "name": "python",
   "nbconvert_exporter": "python",
   "pygments_lexer": "ipython3",
   "version": "3.10.8"
  }
 },
 "nbformat": 4,
 "nbformat_minor": 4
}
