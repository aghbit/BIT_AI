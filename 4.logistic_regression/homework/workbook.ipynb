{
 "cells": [
  {
   "cell_type": "markdown",
   "metadata": {},
   "source": [
    "# Homework"
   ]
  },
  {
   "cell_type": "code",
   "execution_count": 1,
   "metadata": {
    "ExecuteTime": {
     "end_time": "2019-12-05T00:29:19.722371Z",
     "start_time": "2019-12-05T00:29:19.409928Z"
    }
   },
   "outputs": [],
   "source": [
    "%matplotlib inline"
   ]
  },
  {
   "cell_type": "markdown",
   "metadata": {},
   "source": [
    "### Download MNIST data set\n",
    "do this only once\n",
    "\n",
    "```bash\n",
    "    sudo apt install curl\n",
    "    pip3 install --user mlxtend sklearn numpy matplotlib\n",
    "    curl -O http://yann.lecun.com/exdb/mnist/train-images-idx3-ubyte.gz\n",
    "    curl -O http://yann.lecun.com/exdb/mnist/train-labels-idx1-ubyte.gz\n",
    "    gunzip t*-ubyte.gz\n",
    "```"
   ]
  },
  {
   "cell_type": "code",
   "execution_count": 2,
   "metadata": {
    "ExecuteTime": {
     "end_time": "2019-12-05T01:03:30.051125Z",
     "start_time": "2019-12-05T01:03:30.046852Z"
    },
    "scrolled": true
   },
   "outputs": [],
   "source": [
    " #!pip3 install --user mlxtend sklearn numpy matplotlib\n",
    " #!curl -O http://yann.lecun.com/exdb/mnist/train-images-idx3-ubyte.gz\n",
    " #!curl -O http://yann.lecun.com/exdb/mnist/train-labels-idx1-ubyte.gz\n",
    " #!gunzip t*-ubyte.gz"
   ]
  },
  {
   "cell_type": "code",
   "execution_count": 3,
   "metadata": {
    "ExecuteTime": {
     "end_time": "2019-12-05T00:29:20.066945Z",
     "start_time": "2019-12-05T00:29:19.734625Z"
    }
   },
   "outputs": [],
   "source": [
    "import numpy as np\n",
    "import matplotlib\n",
    "import matplotlib.pyplot as plt\n",
    "from sklearn.model_selection import train_test_split\n",
    "from sklearn.metrics import accuracy_score, precision_score, recall_score, f1_score\n",
    "from mlxtend.data import loadlocal_mnist\n",
    "\n",
    "import solution\n",
    "\n",
    "np.random.seed(42)"
   ]
  },
  {
   "cell_type": "markdown",
   "metadata": {},
   "source": [
    "### Load dataset"
   ]
  },
  {
   "cell_type": "code",
   "execution_count": 4,
   "metadata": {
    "ExecuteTime": {
     "end_time": "2019-12-05T00:29:20.084005Z",
     "start_time": "2019-12-05T00:29:20.068372Z"
    }
   },
   "outputs": [],
   "source": [
    "X, y = loadlocal_mnist(\n",
    "        images_path='./train-images-idx3-ubyte', \n",
    "        labels_path='./train-labels-idx1-ubyte')"
   ]
  },
  {
   "cell_type": "code",
   "execution_count": 5,
   "metadata": {
    "ExecuteTime": {
     "end_time": "2019-12-05T00:29:20.090560Z",
     "start_time": "2019-12-05T00:29:20.085823Z"
    }
   },
   "outputs": [
    {
     "data": {
      "text/plain": [
       "((60000, 784), (60000,))"
      ]
     },
     "execution_count": 5,
     "metadata": {},
     "output_type": "execute_result"
    }
   ],
   "source": [
    "X.shape, y.shape"
   ]
  },
  {
   "cell_type": "markdown",
   "metadata": {},
   "source": [
    "### We have to decide whether number is 3 or 1"
   ]
  },
  {
   "cell_type": "code",
   "execution_count": 6,
   "metadata": {
    "ExecuteTime": {
     "end_time": "2019-12-05T00:29:20.106446Z",
     "start_time": "2019-12-05T00:29:20.092383Z"
    }
   },
   "outputs": [],
   "source": [
    "X, y = np.concatenate([X[y == 3], X[y==1]]), np.concatenate([np.full(y[y == 3].shape, 0), np.full(y[y == 1].shape, 1)])"
   ]
  },
  {
   "cell_type": "code",
   "execution_count": 7,
   "metadata": {
    "ExecuteTime": {
     "end_time": "2019-12-05T00:29:20.114679Z",
     "start_time": "2019-12-05T00:29:20.108856Z"
    }
   },
   "outputs": [
    {
     "data": {
      "text/plain": [
       "(784,)"
      ]
     },
     "execution_count": 7,
     "metadata": {},
     "output_type": "execute_result"
    }
   ],
   "source": [
    "X.shape, y.shape\n",
    "X[0].shape"
   ]
  },
  {
   "cell_type": "markdown",
   "metadata": {},
   "source": [
    "### Sample of MNIST dataset"
   ]
  },
  {
   "cell_type": "code",
   "execution_count": 10,
   "metadata": {
    "ExecuteTime": {
     "end_time": "2019-12-05T00:40:23.410849Z",
     "start_time": "2019-12-05T00:40:23.338625Z"
    }
   },
   "outputs": [
    {
     "name": "stdout",
     "output_type": "stream",
     "text": [
      "Number:  3\n"
     ]
    },
    {
     "data": {
      "image/png": "[encoded data removed]",
      "text/plain": [
       "<Figure size 432x288 with 1 Axes>"
      ]
     },
     "metadata": {
      "needs_background": "light"
     },
     "output_type": "display_data"
    }
   ],
   "source": [
    "some_digit = X[0]\n",
    "some_digit_image = some_digit.reshape(28,28)\n",
    "print(\"Number: \", 3 if y[0] == 0 else 1)\n",
    "\n",
    "plt.imshow(some_digit_image, cmap=matplotlib.cm.binary, interpolation=\"nearest\")\n",
    "plt.axis(\"off\")\n",
    "plt.show()"
   ]
  },
  {
   "cell_type": "markdown",
   "metadata": {},
   "source": [
    "# Your turn!\n",
    "Preprocess data, build model and train it. Feel free to use everything you know :)\n",
    "\n",
    "Use notebook from logistic regression as cheat sheet\n",
    "\n",
    "**Hint:** Order of tasks:\n",
    " - analize dataset **perhaps we need to normalize data**\n",
    " - validate dataset **do we need this?**\n",
    " - define squashing function **I recommend you to use sigmoid**\n",
    " - define loss, gradient descent \n",
    " - train your model :)"
   ]
  },
  {
   "cell_type": "code",
   "execution_count": 16,
   "metadata": {
    "ExecuteTime": {
     "end_time": "2019-12-05T00:47:05.676658Z",
     "start_time": "2019-12-05T00:47:05.674150Z"
    }
   },
   "outputs": [],
   "source": [
    "# Type your code here\n",
    "\n",
    "X_train, X_val_test, y_train, y_val_test = train_test_split(X.astype(np.float), y, train_size=0.7)\n",
    "X_val, X_test, y_val, y_test = train_test_split(X_val_test, y_val_test, train_size=0.66)"
   ]
  },
  {
   "cell_type": "code",
   "execution_count": 17,
   "metadata": {},
   "outputs": [
    {
     "data": {
      "text/plain": [
       "dtype('float64')"
      ]
     },
     "execution_count": 17,
     "metadata": {},
     "output_type": "execute_result"
    }
   ],
   "source": [
    "X_train.dtype"
   ]
  },
  {
   "cell_type": "code",
   "execution_count": 18,
   "metadata": {},
   "outputs": [],
   "source": [
    "X_train /= 255.0\n",
    "X_val /= 255.0\n",
    "X_test /= 255.0"
   ]
  },
  {
   "cell_type": "code",
   "execution_count": null,
   "metadata": {},
   "outputs": [],
   "source": []
  },
  {
   "cell_type": "markdown",
   "metadata": {},
   "source": [
    "### Check your models accuracy and f1 score\n",
    "y_hat should have shape (2873,) sometimes you have to transpose the results!"
   ]
  },
  {
   "cell_type": "code",
   "execution_count": null,
   "metadata": {
    "ExecuteTime": {
     "end_time": "2019-12-05T00:51:12.499207Z",
     "start_time": "2019-12-05T00:51:12.475712Z"
    },
    "scrolled": true
   },
   "outputs": [],
   "source": [
    "accuracy_score(y_test, y_hat)"
   ]
  },
  {
   "cell_type": "code",
   "execution_count": null,
   "metadata": {
    "ExecuteTime": {
     "end_time": "2019-12-05T00:51:17.089334Z",
     "start_time": "2019-12-05T00:51:17.056006Z"
    }
   },
   "outputs": [],
   "source": [
    "f1_score(y_test, y_hat)"
   ]
  },
  {
   "cell_type": "markdown",
   "metadata": {},
   "source": [
    "### Compare your model with my"
   ]
  },
  {
   "cell_type": "code",
   "execution_count": 10,
   "metadata": {
    "ExecuteTime": {
     "end_time": "2019-12-05T00:29:20.217632Z",
     "start_time": "2019-12-05T00:29:20.190433Z"
    }
   },
   "outputs": [
    {
     "name": "stdout",
     "output_type": "stream",
     "text": [
      "0.6395407764864396\n",
      "0.6309879886509234\n",
      "0.6239854422436025\n",
      "0.6165377295368373\n",
      "0.6083613841321197\n",
      "0.598906656029774\n",
      "0.5881273395638505\n",
      "0.5754468288587979\n",
      "0.5598423853316402\n",
      "0.5393796086830559\n",
      "0.5074553117420685\n",
      "0.45645368964434\n",
      "0.4218641699898654\n",
      "0.3934165456781513\n",
      "0.37670843951283683\n",
      "0.39116102412773274\n",
      "0.948784807659601\n",
      "1.8104994463043507\n",
      "0.7877734485805692\n",
      "0.47491291523695456\n",
      "0.4062847688245257\n",
      "0.37651766798953484\n",
      "0.36030130620198964\n",
      "0.34870104436088994\n",
      "0.3388199270654959\n",
      "0.3296747027300627\n",
      "0.321088790377221\n",
      "0.312842844193889\n",
      "0.30485153751189936\n",
      "0.29710692470314687\n",
      "0.28945966929939515\n",
      "0.28184138886877\n",
      "0.2743087432611331\n",
      "0.2671175915217642\n",
      "0.2601167630251095\n",
      "0.2531766101817553\n",
      "0.24642252234818585\n",
      "0.2398635585592697\n",
      "0.2335275628509471\n",
      "0.22725003166199384\n",
      "0.2211043891450358\n",
      "0.21514479035168368\n",
      "0.2093122476997678\n",
      "0.20361711380796882\n",
      "0.19810038691959234\n",
      "0.19275049959503815\n",
      "0.18751690779253244\n",
      "0.18248318889681178\n",
      "0.17761673227663133\n",
      "0.17292859654843945\n",
      "0.168444226615406\n",
      "0.16408364289545863\n",
      "0.15992641843889205\n",
      "0.1559708053770358\n",
      "0.15222038862149545\n",
      "0.14861366230221423\n",
      "0.14513933507721452\n",
      "0.14180948337467983\n",
      "0.13864753093162202\n",
      "0.13560551392049652\n",
      "0.13267185714205834\n",
      "0.12984055734333197\n",
      "0.12713537075821632\n",
      "0.12454267994260342\n",
      "0.12205305570002858\n",
      "0.11966695813072428\n",
      "0.11739151926838715\n",
      "0.11521194283704819\n",
      "0.11310560632620234\n",
      "0.11110912875481302\n",
      "0.10921694395139248\n",
      "0.10740148442348575\n",
      "0.1056687479466774\n",
      "0.10398657302782281\n",
      "0.1023599672371202\n",
      "0.1008249563252752\n",
      "0.09935703104544794\n",
      "0.09795389575881995\n",
      "0.09661212187384634\n",
      "0.09532910846284508\n",
      "0.09409496198751331\n",
      "0.09291018123467486\n",
      "0.09177653711850706\n",
      "0.0906827464474643\n",
      "0.08963174484524182\n",
      "0.08862300317534705\n",
      "0.08765101203262657\n",
      "0.08672134298356608\n",
      "0.08583692545677576\n",
      "0.08498454991913808\n",
      "0.08416739204832721\n",
      "0.08338262389832422\n",
      "0.08262998074738466\n",
      "0.0819072419299384\n",
      "0.08121292934878513\n",
      "0.0805460031134782\n",
      "0.07990315658984695\n",
      "0.07928559367583832\n",
      "0.0786886746834419\n",
      "0.07811539255829977\n"
     ]
    },
    {
     "data": {
      "image/png": "[encoded data removed]",
      "text/plain": [
       "<Figure size 432x288 with 1 Axes>"
      ]
     },
     "metadata": {
      "needs_background": "light"
     },
     "output_type": "display_data"
    }
   ],
   "source": [
    "predict = solution.forward_propagation\n",
    "\n",
    "X_train, y_train, X_test, y_test = solution.preprocess(X, y)\n",
    "\n",
    "model, history = solution.fit(X_train, y_train, 0.1, epochs=100)\n",
    "\n",
    "y_hat, *_ = solution.forward_propagation(X_test.T, model)\n",
    "\n",
    "y_hat[y_hat >= 0.5] = 1\n",
    "y_hat[y_hat < 0.5] = 0\n",
    "\n",
    "plt.plot(history)\n",
    "plt.show()"
   ]
  },
  {
   "cell_type": "code",
   "execution_count": 11,
   "metadata": {
    "ExecuteTime": {
     "end_time": "2019-12-05T00:33:56.183427Z",
     "start_time": "2019-12-05T00:33:56.169119Z"
    }
   },
   "outputs": [
    {
     "data": {
      "text/plain": [
       "0.9860772711451444"
      ]
     },
     "execution_count": 11,
     "metadata": {},
     "output_type": "execute_result"
    }
   ],
   "source": [
    "accuracy_score(y_test, y_hat.T)"
   ]
  },
  {
   "cell_type": "code",
   "execution_count": 12,
   "metadata": {
    "ExecuteTime": {
     "end_time": "2019-12-05T00:34:15.906268Z",
     "start_time": "2019-12-05T00:34:15.884584Z"
    },
    "scrolled": true
   },
   "outputs": [
    {
     "data": {
      "text/plain": [
       "0.9929898352611286"
      ]
     },
     "execution_count": 12,
     "metadata": {},
     "output_type": "execute_result"
    }
   ],
   "source": [
    "f1_score(y_test, y_hat.T)"
   ]
  },
  {
   "cell_type": "code",
   "execution_count": null,
   "metadata": {},
   "outputs": [],
   "source": []
  }
 ],
 "metadata": {
  "kernelspec": {
   "display_name": "Python 3",
   "language": "python",
   "name": "python3"
  },
  "language_info": {
   "codemirror_mode": {
    "name": "ipython",
    "version": 3
   },
   "file_extension": ".py",
   "mimetype": "text/x-python",
   "name": "python",
   "nbconvert_exporter": "python",
   "pygments_lexer": "ipython3",
   "version": "3.7.0"
  }
 },
 "nbformat": 4,
 "nbformat_minor": 2
}
