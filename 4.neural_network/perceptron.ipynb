{
 "cells": [
  {
   "cell_type": "code",
   "execution_count": 8,
   "metadata": {},
   "outputs": [],
   "source": [
    "import numpy as np\n",
    "import matplotlib.pyplot as plt\n",
    "from sklearn.model_selection import train_test_split\n",
    "from sklearn.metrics import accuracy_score, precision_score, recall_score, f1_score\n",
    "from mlxtend.data import loadlocal_mnist"
   ]
  },
  {
   "cell_type": "code",
   "execution_count": 9,
   "metadata": {},
   "outputs": [],
   "source": [
    "class NeuralNetwork:\n",
    "    \n",
    "    def __init__(self, hidden_dims, loss_fn, input_dim = 28*28, output_size = 1, weight_scale = None, dtype=np.float32):\n",
    "        self.params = {}\n",
    "        self.num_layers = len(hidden_dims) + 1\n",
    "        \n",
    "        self.loss_fn = loss_fn\n",
    "        \n",
    "        for i in range(self.num_layers):\n",
    "            if(i == 0):\n",
    "                if weight_scale is None:\n",
    "                    self.params['W1'] = \\\n",
    "                        np.random.randn(input_dim, hidden_dims[0]) * np.sqrt(2/input_dim)\n",
    "                else:\n",
    "                    self.params['W1'] = \\\n",
    "                        np.random.randn(input_dim, hidden_dims[0]) * weight_scale\n",
    "                self.params['b1'] = np.zeros(hidden_dims[0], dtype=dtype)\n",
    "            elif(i == self.num_layers-1):\n",
    "                if weight_scale is None:\n",
    "                    self.params['W'+str(i+1)] = np.random.randn(hidden_dims[i-1], \n",
    "                                                                output_size) * np.sqrt(2/input_dim)\n",
    "                else:\n",
    "                    self.params['W'+str(i+1)] = np.random.randn(hidden_dims[i-1], \n",
    "                                                                output_size) * weight_scale \n",
    "                self.params['b'+str(i+1)] = np.zeros(output_size, dtype=dtype)\n",
    "            else:\n",
    "                if weight_scale is None:\n",
    "                    self.params['W'+str(i+1)] = np.random.randn(hidden_dims[i-1], \n",
    "                                                                hidden_dims[i]) * np.sqrt(2/input_dim)\n",
    "                else:\n",
    "                    self.params['W'+str(i+1)] = np.random.randn(hidden_dims[i-1], \n",
    "                                                                hidden_dims[i]) * weight_scale\n",
    "                self.params['b'+str(i+1)] = np.zeros(hidden_dims[i], dtype=dtype)\n",
    "    \n",
    "    def loss(self, X, Y=None):\n",
    "        \n",
    "        scores = None\n",
    "        \n",
    "        out = X\n",
    "        cache = {}\n",
    "        \n",
    "        for i in range(self.num_layers-1):\n",
    "            out, cache['dense_relu'+str(i+1)] = dense_relu_forward(out, self.params['W'+str(i+1)], \n",
    "                                                        self.params['b'+str(i+1)])\n",
    "            #out, cache['dense_sigmoid'+str(i+1)] = dense_sigmoid_forward(out, self.params['W'+str(i+1)], \n",
    "                                                        #self.params['b'+str(i+1)])\n",
    "        \n",
    "        scores, cache['dense'] = dense_forward(out, self.params['W'+str(self.num_layers)], self.params['b'+str(self.num_layers)])\n",
    "        \n",
    "        if Y is None:\n",
    "            return scoresv   \n",
    "        \n",
    "        loss, dout = self.loss_fn(scores, Y)\n",
    "        \n",
    "        grads = {}\n",
    "        \n",
    "        dout, grads['W'+str(self.num_layers)], grads['b'+str(self.num_layers)] = dense_backward(dout, cache['dense'])\n",
    "        \n",
    "        for i in range(self.num_layers-1, 0, -1):\n",
    "            dout, dW, db = dense_relu_backward(dout, cache['dense_relu'+str(i)])\n",
    "            \n",
    "            #dout, dW, db = dense_sigmoid_backward(dout, cache['dense_sigmoid'+str(i)])\n",
    "            \n",
    "            grads['W'+str(i)], grads['b'+str(i)] = dW, db\n",
    "        \n",
    "        return loss, grads\n",
    "    \n",
    "    def predict(self, X):\n",
    "        predictions, _ = sigmoid_forward(self.loss(X))\n",
    "        predictions[predictions>0.5] = 1\n",
    "        predictions[predictions<=0.5] = 0\n",
    "        \n",
    "        return predictions"
   ]
  },
  {
   "cell_type": "code",
   "execution_count": 29,
   "metadata": {},
   "outputs": [],
   "source": [
    "def dense_forward(x, W, b):\n",
    "    out = x @ W + b\n",
    "    \n",
    "    cache = (x, W, b)\n",
    "    \n",
    "    return out, cache\n",
    "\n",
    "def dense_backward(dout, cache):\n",
    "    x, W, _ = cache\n",
    "    \n",
    "    N = x.shape[0]\n",
    "    \n",
    "    dW = x.T @ dout\n",
    "    dx = dout @ W.T\n",
    "    db = np.sum(dout, axis=0)\n",
    "    \n",
    "    return dx, dW, db\n",
    "\n",
    "# x if x>0 else 0\n",
    "def relu_forward(x):\n",
    "    out = np.maximum(0, x)\n",
    "    cache = x\n",
    "    return out, cache\n",
    "\n",
    "# Note: function is not derivable at x=0, for the implementation pupuse lets assume f'(0) = 0\n",
    "def relu_backward(dout, cache):\n",
    "    x = cache\n",
    "    out = dout.copy()\n",
    "    out[x <= 0] = 0\n",
    "    return out\n",
    "\n",
    "def sigmoid_forward(x):\n",
    "    out = 1 / (1 + np.exp(-x))\n",
    "    cache = out\n",
    "    return out, cache\n",
    "\n",
    "def sigmoid_backward(dout, cache):\n",
    "    z = cache\n",
    "    dz = z*(1-z)\n",
    "    return dout*dz"
   ]
  },
  {
   "cell_type": "code",
   "execution_count": 30,
   "metadata": {},
   "outputs": [],
   "source": [
    "def dense_sigmoid_forward(x, W, b):\n",
    "    out, cache_dense = dense_forward(x, W, b)\n",
    "    out, cache_sigmoid = sigmoid_forward(out)\n",
    "    cache = (cache_dense, cache_sigmoid)\n",
    "    return out, cache\n",
    "\n",
    "def dense_sigmoid_backward(dout, cache):\n",
    "    cache_dense, cache_sigmoid = cache\n",
    "    \n",
    "    dout = sigmoid_backward(dout, cache_sigmoid)\n",
    "    dout, dW, db = dense_backward(dout, cache_dense)\n",
    "    \n",
    "    return dout, dW, db\n",
    "\n",
    "def dense_relu_forward(x, W, b):\n",
    "    out, cache_dense = dense_forward(x, W, b)\n",
    "    out, cache_relu = relu_forward(out)\n",
    "    cache = (cache_dense, cache_relu)\n",
    "    return out, cache\n",
    "\n",
    "def dense_relu_backward(dout, cache):\n",
    "    cache_dense, cache_relu = cache\n",
    "    \n",
    "    dout = relu_backward(dout, cache_relu)\n",
    "    dout, dW, db = dense_backward(dout, cache_dense)\n",
    "    \n",
    "    return dout, dW, db"
   ]
  },
  {
   "cell_type": "code",
   "execution_count": 31,
   "metadata": {},
   "outputs": [],
   "source": [
    "def loss_fn(scores, y, eps=1e-6):\n",
    "    y_pred, _ = sigmoid_forward(scores)\n",
    "    \n",
    "    y_t = y.reshape(y.shape[0], 1)\n",
    "    \n",
    "    l = y_t * np.log(y_pred + eps) + (1 - y_t) * np.log(1 - y_pred + eps)\n",
    "    l = l.mean()\n",
    "    l *= -1\n",
    "    \n",
    "    dl = (y_pred - y_t) / y.shape[0]\n",
    "    \n",
    "    return l, dl"
   ]
  },
  {
   "cell_type": "code",
   "execution_count": null,
   "metadata": {},
   "outputs": [],
   "source": []
  },
  {
   "cell_type": "markdown",
   "metadata": {},
   "source": [
    "## Load Data"
   ]
  },
  {
   "cell_type": "code",
   "execution_count": 32,
   "metadata": {},
   "outputs": [],
   "source": [
    "#!pip3 install --user mlxtend sklearn numpy matplotlib\n",
    "#!curl -O http://yann.lecun.com/exdb/mnist/train-images-idx3-ubyte.gz\n",
    "#!curl -O http://yann.lecun.com/exdb/mnist/train-labels-idx1-ubyte.gz\n",
    "#!gunzip t*-ubyte.gz"
   ]
  },
  {
   "cell_type": "code",
   "execution_count": 33,
   "metadata": {},
   "outputs": [],
   "source": [
    "X, y = loadlocal_mnist(\n",
    "        images_path='./train-images-idx3-ubyte', \n",
    "        labels_path='./train-labels-idx1-ubyte')"
   ]
  },
  {
   "cell_type": "code",
   "execution_count": 34,
   "metadata": {},
   "outputs": [],
   "source": [
    "X, y = np.concatenate([X[y == 3], X[y==1]]), np.concatenate([np.full(y[y == 3].shape, 0), np.full(y[y == 1].shape, 1)])\n",
    "X_train, X_val_test, y_train, y_val_test = train_test_split(X.astype(np.float), y, train_size=0.7)\n",
    "X_val, X_test, y_val, y_test = train_test_split(X_val_test, y_val_test, train_size=0.66)\n",
    "\n",
    "X_train /= 255.0\n",
    "X_val /= 255.0\n",
    "X_test /= 255.0"
   ]
  },
  {
   "cell_type": "code",
   "execution_count": 35,
   "metadata": {},
   "outputs": [
    {
     "data": {
      "text/plain": [
       "(9011, 784)"
      ]
     },
     "execution_count": 35,
     "metadata": {},
     "output_type": "execute_result"
    }
   ],
   "source": [
    "X_train.shape"
   ]
  },
  {
   "cell_type": "markdown",
   "metadata": {},
   "source": [
    "## Copy-paste from past :) "
   ]
  },
  {
   "cell_type": "code",
   "execution_count": 36,
   "metadata": {},
   "outputs": [
    {
     "data": {
      "image/png": "[encoded data removed]",
      "text/plain": [
       "<Figure size 432x288 with 1 Axes>"
      ]
     },
     "metadata": {
      "needs_background": "light"
     },
     "output_type": "display_data"
    }
   ],
   "source": [
    "def sigmoid(x):\n",
    "    return 1 / (1 + np.exp(-x))\n",
    "\n",
    "def evaluate(W, X):\n",
    "    result = X @ W\n",
    "    return sigmoid(result)\n",
    "\n",
    "def loss(W, X, Y, eps):\n",
    "    y_pred = evaluate(W, X)\n",
    "    result = Y * np.log(y_pred + eps) + (1 - Y) * np.log(1 - y_pred + eps)\n",
    "    result = result.mean()\n",
    "    result *= -1\n",
    "    return result\n",
    "\n",
    "def gradient_step(W, X, Y, lr):\n",
    "    Y_hat = evaluate(W, X)\n",
    "    errors = Y_hat - Y\n",
    "    dW = (X.T @ errors) / len(errors)\n",
    "    return W - dW * lr\n",
    "\n",
    "def add_bias_feature(X):\n",
    "       return np.c_[np.ones(len(X)), X]\n",
    "    \n",
    "learning_rate = 0.1\n",
    "eps = 0.001\n",
    "train_steps = 100\n",
    "\n",
    "W = np.random.randn(X_train.shape[1])\n",
    "\n",
    "train_costs = []\n",
    "val_costs = []\n",
    "\n",
    "for _ in range(train_steps):\n",
    "    train_costs.append(loss(W, X_train, y_train, eps=eps))\n",
    "    val_costs.append(loss(W, X_val, y_val, eps=eps))\n",
    "    W = gradient_step(W, X_train, y_train, lr=learning_rate)\n",
    "    \n",
    "plt.close()\n",
    "\n",
    "plt.plot(np.arange(train_steps), train_costs)\n",
    "plt.plot(np.arange(train_steps), val_costs)\n",
    "plt.legend([\"train loss\", \"val loss\"])\n",
    "plt.show()"
   ]
  },
  {
   "cell_type": "code",
   "execution_count": 37,
   "metadata": {},
   "outputs": [],
   "source": [
    "positive_ind = np.argwhere(y_val == 1).reshape(-1)\n",
    "negative_ind = np.argwhere(y_val == 0).reshape(-1)\n",
    "X_val_pos = X_val[positive_ind]\n",
    "y_val_pos = y_val[positive_ind]\n",
    "X_val_neg = X_val[negative_ind]\n",
    "y_val_neg = y_val[negative_ind]"
   ]
  },
  {
   "cell_type": "code",
   "execution_count": 38,
   "metadata": {},
   "outputs": [
    {
     "data": {
      "text/plain": [
       "0.9315068493150684"
      ]
     },
     "execution_count": 38,
     "metadata": {},
     "output_type": "execute_result"
    }
   ],
   "source": [
    "y_test_pred = evaluate(W, X_test)\n",
    "y_test_pred[y_test_pred > 0.5] = 1\n",
    "y_test_pred[y_test_pred <= 0.5] = 0\n",
    "\n",
    "accuracy_score(y_test, y_test_pred)"
   ]
  },
  {
   "cell_type": "markdown",
   "metadata": {},
   "source": [
    "## Use 3 hidden layer neural network"
   ]
  },
  {
   "cell_type": "code",
   "execution_count": 39,
   "metadata": {
    "scrolled": true
   },
   "outputs": [
    {
     "name": "stdout",
     "output_type": "stream",
     "text": [
      "iteration 0, loss: 0.826433\n",
      "iteration 1, loss: 0.571138\n",
      "iteration 2, loss: 0.450003\n",
      "iteration 3, loss: 0.353895\n",
      "iteration 4, loss: 0.289061\n",
      "iteration 5, loss: 0.257682\n",
      "iteration 6, loss: 0.247819\n",
      "iteration 7, loss: 0.225737\n",
      "iteration 8, loss: 0.168912\n",
      "iteration 9, loss: 0.111044\n",
      "iteration 10, loss: 0.088060\n",
      "iteration 11, loss: 0.080002\n",
      "iteration 12, loss: 0.074255\n",
      "iteration 13, loss: 0.069618\n",
      "iteration 14, loss: 0.065780\n",
      "iteration 15, loss: 0.062534\n",
      "iteration 16, loss: 0.059748\n",
      "iteration 17, loss: 0.057330\n",
      "iteration 18, loss: 0.055210\n",
      "iteration 19, loss: 0.053334\n",
      "iteration 20, loss: 0.051662\n",
      "iteration 21, loss: 0.050158\n",
      "iteration 22, loss: 0.048796\n",
      "iteration 23, loss: 0.047556\n",
      "iteration 24, loss: 0.046420\n",
      "iteration 25, loss: 0.045377\n",
      "iteration 26, loss: 0.044412\n",
      "iteration 27, loss: 0.043518\n",
      "iteration 28, loss: 0.042687\n",
      "iteration 29, loss: 0.041913\n",
      "iteration 30, loss: 0.041189\n",
      "iteration 31, loss: 0.040506\n",
      "iteration 32, loss: 0.039863\n",
      "iteration 33, loss: 0.039254\n",
      "iteration 34, loss: 0.038678\n",
      "iteration 35, loss: 0.038129\n",
      "iteration 36, loss: 0.037607\n",
      "iteration 37, loss: 0.037109\n",
      "iteration 38, loss: 0.036633\n",
      "iteration 39, loss: 0.036179\n",
      "iteration 40, loss: 0.035744\n",
      "iteration 41, loss: 0.035325\n",
      "iteration 42, loss: 0.034922\n",
      "iteration 43, loss: 0.034536\n",
      "iteration 44, loss: 0.034164\n",
      "iteration 45, loss: 0.033805\n",
      "iteration 46, loss: 0.033458\n",
      "iteration 47, loss: 0.033123\n",
      "iteration 48, loss: 0.032798\n",
      "iteration 49, loss: 0.032483\n",
      "iteration 50, loss: 0.032178\n",
      "iteration 51, loss: 0.031882\n",
      "iteration 52, loss: 0.031595\n",
      "iteration 53, loss: 0.031317\n",
      "iteration 54, loss: 0.031046\n",
      "iteration 55, loss: 0.030783\n",
      "iteration 56, loss: 0.030526\n",
      "iteration 57, loss: 0.030276\n",
      "iteration 58, loss: 0.030032\n",
      "iteration 59, loss: 0.029794\n",
      "iteration 60, loss: 0.029561\n",
      "iteration 61, loss: 0.029333\n",
      "iteration 62, loss: 0.029110\n",
      "iteration 63, loss: 0.028891\n",
      "iteration 64, loss: 0.028677\n",
      "iteration 65, loss: 0.028466\n",
      "iteration 66, loss: 0.028259\n",
      "iteration 67, loss: 0.028056\n",
      "iteration 68, loss: 0.027856\n",
      "iteration 69, loss: 0.027661\n",
      "iteration 70, loss: 0.027469\n",
      "iteration 71, loss: 0.027280\n",
      "iteration 72, loss: 0.027095\n",
      "iteration 73, loss: 0.026912\n",
      "iteration 74, loss: 0.026732\n",
      "iteration 75, loss: 0.026556\n",
      "iteration 76, loss: 0.026382\n",
      "iteration 77, loss: 0.026210\n",
      "iteration 78, loss: 0.026041\n",
      "iteration 79, loss: 0.025875\n",
      "iteration 80, loss: 0.025711\n",
      "iteration 81, loss: 0.025550\n",
      "iteration 82, loss: 0.025391\n",
      "iteration 83, loss: 0.025235\n",
      "iteration 84, loss: 0.025080\n",
      "iteration 85, loss: 0.024928\n",
      "iteration 86, loss: 0.024776\n",
      "iteration 87, loss: 0.024626\n",
      "iteration 88, loss: 0.024478\n",
      "iteration 89, loss: 0.024333\n",
      "iteration 90, loss: 0.024189\n",
      "iteration 91, loss: 0.024047\n",
      "iteration 92, loss: 0.023906\n",
      "iteration 93, loss: 0.023768\n",
      "iteration 94, loss: 0.023631\n",
      "iteration 95, loss: 0.023495\n",
      "iteration 96, loss: 0.023362\n",
      "iteration 97, loss: 0.023230\n",
      "iteration 98, loss: 0.023100\n",
      "iteration 99, loss: 0.022971\n"
     ]
    },
    {
     "data": {
      "image/png": "[encoded data removed]",
      "text/plain": [
       "<Figure size 432x288 with 1 Axes>"
      ]
     },
     "metadata": {
      "needs_background": "light"
     },
     "output_type": "display_data"
    }
   ],
   "source": [
    "model = NeuralNetwork([128, 128, 128], loss_fn, weight_scale = np.float(0.1))\n",
    "\n",
    "num_steps = 100\n",
    "\n",
    "loss_history = []\n",
    "lr = 0.2\n",
    "\n",
    "#X_tr = X_train\n",
    "#y_tr = y_train\n",
    "\n",
    "#print(y_tr)\n",
    "\n",
    "X_train = X_train\n",
    "y_train = y_train\n",
    "\n",
    "for i in range(num_steps):    \n",
    "    #h = model.loss(batch_x)\n",
    "    #print(h)\n",
    "    \n",
    "    loss, grads = model.loss(X_train, y_train)\n",
    "    \n",
    "    print('iteration %d, loss: %f'%(i, loss))\n",
    "    \n",
    "    loss_history.append(loss)\n",
    "    \n",
    "    for param_name, param_val in model.params.items():\n",
    "        model.params[param_name] = param_val - lr*grads[param_name]\n",
    "\n",
    "plt.plot(loss_history)\n",
    "plt.show()"
   ]
  },
  {
   "cell_type": "code",
   "execution_count": 40,
   "metadata": {},
   "outputs": [],
   "source": [
    "y_test_pred = model.predict(X_test)"
   ]
  },
  {
   "cell_type": "code",
   "execution_count": 41,
   "metadata": {},
   "outputs": [
    {
     "data": {
      "text/plain": [
       "0.9931506849315068"
      ]
     },
     "execution_count": 41,
     "metadata": {},
     "output_type": "execute_result"
    }
   ],
   "source": [
    "accuracy_score(y_test, y_test_pred)"
   ]
  },
  {
   "cell_type": "code",
   "execution_count": null,
   "metadata": {},
   "outputs": [],
   "source": []
  }
 ],
 "metadata": {
  "kernelspec": {
   "display_name": "Python 3",
   "language": "python",
   "name": "python3"
  },
  "language_info": {
   "codemirror_mode": {
    "name": "ipython",
    "version": 3
   },
   "file_extension": ".py",
   "mimetype": "text/x-python",
   "name": "python",
   "nbconvert_exporter": "python",
   "pygments_lexer": "ipython3",
   "version": "3.7.4"
  }
 },
 "nbformat": 4,
 "nbformat_minor": 2
}
